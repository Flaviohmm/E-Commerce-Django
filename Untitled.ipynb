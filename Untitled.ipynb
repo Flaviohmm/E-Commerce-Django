{
 "cells": [
  {
   "cell_type": "code",
   "execution_count": 1,
   "id": "6a92d3b1",
   "metadata": {},
   "outputs": [],
   "source": [
    "import math"
   ]
  },
  {
   "cell_type": "code",
   "execution_count": 4,
   "id": "2b1d0843",
   "metadata": {},
   "outputs": [],
   "source": [
    "math.pow"
   ]
  },
  {
   "cell_type": "code",
   "execution_count": 5,
   "id": "e00b12c1",
   "metadata": {},
   "outputs": [
    {
     "data": {
      "text/plain": [
       "1024.0"
      ]
     },
     "execution_count": 5,
     "metadata": {},
     "output_type": "execute_result"
    }
   ],
   "source": [
    "math.pow(2, 10)"
   ]
  },
  {
   "cell_type": "code",
   "execution_count": 6,
   "id": "7576e117",
   "metadata": {},
   "outputs": [],
   "source": [
    "class Numero(object):\n",
    "    \n",
    "    def __init__(self, x):\n",
    "        self.numero = x\n",
    "    \n",
    "    def __add__(self, other):\n",
    "        return self.numero + other"
   ]
  },
  {
   "cell_type": "code",
   "execution_count": 7,
   "id": "52b0625e",
   "metadata": {},
   "outputs": [],
   "source": [
    "n = Numero(4)"
   ]
  },
  {
   "cell_type": "code",
   "execution_count": 8,
   "id": "6ca607d2",
   "metadata": {},
   "outputs": [
    {
     "data": {
      "text/plain": [
       "9"
      ]
     },
     "execution_count": 8,
     "metadata": {},
     "output_type": "execute_result"
    }
   ],
   "source": [
    "n + 5"
   ]
  },
  {
   "cell_type": "code",
   "execution_count": 9,
   "id": "12906a47",
   "metadata": {},
   "outputs": [],
   "source": [
    "class Pessoa(object):\n",
    "    \n",
    "    def __init__(self, nome):\n",
    "        self.nome = nome\n",
    "        \n",
    "    def __call__(self):\n",
    "        print(self.nome)"
   ]
  },
  {
   "cell_type": "code",
   "execution_count": 10,
   "id": "24987a42",
   "metadata": {},
   "outputs": [],
   "source": [
    "p = Pessoa('Flavio')"
   ]
  },
  {
   "cell_type": "code",
   "execution_count": 11,
   "id": "461bc943",
   "metadata": {},
   "outputs": [
    {
     "data": {
      "text/plain": [
       "'Flavio'"
      ]
     },
     "execution_count": 11,
     "metadata": {},
     "output_type": "execute_result"
    }
   ],
   "source": [
    "p.nome"
   ]
  },
  {
   "cell_type": "code",
   "execution_count": 12,
   "id": "03b8af09",
   "metadata": {},
   "outputs": [
    {
     "name": "stdout",
     "output_type": "stream",
     "text": [
      "Flavio\n"
     ]
    }
   ],
   "source": [
    "p()"
   ]
  },
  {
   "cell_type": "code",
   "execution_count": 14,
   "id": "14099065",
   "metadata": {},
   "outputs": [],
   "source": [
    "class View(object):\n",
    "    \n",
    "    def __call__(self, request):\n",
    "        pass"
   ]
  },
  {
   "cell_type": "code",
   "execution_count": null,
   "id": "5c91eeb4",
   "metadata": {},
   "outputs": [],
   "source": []
  }
 ],
 "metadata": {
  "kernelspec": {
   "display_name": "Python 3 (ipykernel)",
   "language": "python",
   "name": "python3"
  },
  "language_info": {
   "codemirror_mode": {
    "name": "ipython",
    "version": 3
   },
   "file_extension": ".py",
   "mimetype": "text/x-python",
   "name": "python",
   "nbconvert_exporter": "python",
   "pygments_lexer": "ipython3",
   "version": "3.8.10"
  }
 },
 "nbformat": 4,
 "nbformat_minor": 5
}
